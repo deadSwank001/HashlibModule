{
 "cells": [
  {
   "cell_type": "code",
   "execution_count": 3,
   "id": "feb594c6",
   "metadata": {},
   "outputs": [
    {
     "data": {
      "text/plain": [
       "'031edd7d41651593c5fe5c006fa5752b37fddff7bc4e843aa6af0c950f4b9406'"
      ]
     },
     "execution_count": 3,
     "metadata": {},
     "output_type": "execute_result"
    }
   ],
   "source": [
    "#hashlib\n",
    "\n",
    "import hashlib\n",
    "m = hashlib.sha256()\n",
    "m.update(b\"Nobody inspects\")\n",
    "m.update(b\" the spammish repetition\")\n",
    "m.digest()\n",
    "\n",
    "m.hexdigest()\n",
    "\n",
    "hashlib.sha256(b\"Nobody inspects the spammish repetition\").hexdigest()"
   ]
  },
  {
   "cell_type": "code",
   "execution_count": 4,
   "id": "0f84f323",
   "metadata": {},
   "outputs": [
    {
     "data": {
      "text/plain": [
       "'031edd7d41651593c5fe5c006fa5752b37fddff7bc4e843aa6af0c950f4b9406'"
      ]
     },
     "execution_count": 4,
     "metadata": {},
     "output_type": "execute_result"
    }
   ],
   "source": [
    "#Constructors\n",
    "h = hashlib.new('sha256')\n",
    "h.update(b\"Nobody inspects the spammish repetition\")\n",
    "h.hexdigest()"
   ]
  },
  {
   "cell_type": "code",
   "execution_count": 5,
   "id": "27e7ee6b",
   "metadata": {},
   "outputs": [
    {
     "data": {
      "text/plain": [
       "'44709d6fcb83d92a76dcb0b668c98e1b1d3dafe7'"
      ]
     },
     "execution_count": 5,
     "metadata": {},
     "output_type": "execute_result"
    }
   ],
   "source": [
    "#SHAKE variable digests\n",
    "h = hashlib.shake_256(b'Nobody inspects the spammish repetition')\n",
    "h.hexdigest(20)"
   ]
  },
  {
   "cell_type": "code",
   "execution_count": 9,
   "id": "da3481c9",
   "metadata": {},
   "outputs": [
    {
     "ename": "AttributeError",
     "evalue": "module 'hashlib' has no attribute 'file_digest'",
     "output_type": "error",
     "traceback": [
      "\u001b[1;31m---------------------------------------------------------------------------\u001b[0m",
      "\u001b[1;31mAttributeError\u001b[0m                            Traceback (most recent call last)",
      "\u001b[1;32m~\\AppData\\Local\\Temp\\ipykernel_13384\\1395877062.py\u001b[0m in \u001b[0;36m<module>\u001b[1;34m\u001b[0m\n\u001b[0;32m      2\u001b[0m \u001b[1;32mimport\u001b[0m \u001b[0mio\u001b[0m\u001b[1;33m,\u001b[0m \u001b[0mhashlib\u001b[0m\u001b[1;33m,\u001b[0m \u001b[0mhmac\u001b[0m\u001b[1;33m\u001b[0m\u001b[1;33m\u001b[0m\u001b[0m\n\u001b[0;32m      3\u001b[0m \u001b[1;32mwith\u001b[0m \u001b[0mopen\u001b[0m\u001b[1;33m(\u001b[0m\u001b[0mhashlib\u001b[0m\u001b[1;33m.\u001b[0m\u001b[0m__file__\u001b[0m\u001b[1;33m,\u001b[0m \u001b[1;34m\"rb\"\u001b[0m\u001b[1;33m)\u001b[0m \u001b[1;32mas\u001b[0m \u001b[0mf\u001b[0m\u001b[1;33m:\u001b[0m\u001b[1;33m\u001b[0m\u001b[1;33m\u001b[0m\u001b[0m\n\u001b[1;32m----> 4\u001b[1;33m     \u001b[0mdigest\u001b[0m \u001b[1;33m=\u001b[0m \u001b[0mhashlib\u001b[0m\u001b[1;33m.\u001b[0m\u001b[0mfile_digest\u001b[0m\u001b[1;33m(\u001b[0m\u001b[0mf\u001b[0m\u001b[1;33m,\u001b[0m \u001b[1;34m\"sha256\"\u001b[0m\u001b[1;33m)\u001b[0m\u001b[1;33m\u001b[0m\u001b[1;33m\u001b[0m\u001b[0m\n\u001b[0m\u001b[0;32m      5\u001b[0m \u001b[1;33m\u001b[0m\u001b[0m\n\u001b[0;32m      6\u001b[0m \u001b[0mdigest\u001b[0m\u001b[1;33m.\u001b[0m\u001b[0mhexdigest\u001b[0m\u001b[1;33m(\u001b[0m\u001b[1;33m)\u001b[0m\u001b[1;33m\u001b[0m\u001b[1;33m\u001b[0m\u001b[0m\n",
      "\u001b[1;31mAttributeError\u001b[0m: module 'hashlib' has no attribute 'file_digest'"
     ]
    }
   ],
   "source": [
    "#File Hashing\n",
    "import io, hashlib, hmac\n",
    "with open(hashlib.__file__, \"rb\") as f:\n",
    "    digest = hashlib.file_digest(f, \"sha256\")\n",
    "\n",
    "digest.hexdigest()  \n",
    "\n",
    "#>>>#\n",
    "\n",
    "buf = io.BytesIO(b\"somedata\")\n",
    "mac1 = hmac.HMAC(b\"key\", digestmod=hashlib.sha512)\n",
    "digest = hashlib.file_digest(buf, lambda: mac1)\n",
    "\n",
    "#>>>#\n",
    "\n",
    "digest is mac1\n",
    "\n",
    "mac2 = hmac.HMAC(b\"key\", b\"somedata\", digestmod=hashlib.sha512)\n",
    "mac1.digest() == mac2.digest()"
   ]
  },
  {
   "cell_type": "code",
   "execution_count": 10,
   "id": "aad8d7db",
   "metadata": {},
   "outputs": [],
   "source": [
    "### ^ gives attribute Error: module 'hashlib' has no attribute 'file_digest'"
   ]
  },
  {
   "cell_type": "code",
   "execution_count": 11,
   "id": "009ca694",
   "metadata": {},
   "outputs": [
    {
     "ename": "FileNotFoundError",
     "evalue": "[Errno 2] No such file or directory: '-f'",
     "output_type": "error",
     "traceback": [
      "\u001b[1;31m---------------------------------------------------------------------------\u001b[0m",
      "\u001b[1;31mFileNotFoundError\u001b[0m                         Traceback (most recent call last)",
      "\u001b[1;32m~\\AppData\\Local\\Temp\\ipykernel_13384\\1019485017.py\u001b[0m in \u001b[0;36m<module>\u001b[1;34m\u001b[0m\n\u001b[0;32m      9\u001b[0m \u001b[0msha1\u001b[0m \u001b[1;33m=\u001b[0m \u001b[0mhashlib\u001b[0m\u001b[1;33m.\u001b[0m\u001b[0msha1\u001b[0m\u001b[1;33m(\u001b[0m\u001b[1;33m)\u001b[0m\u001b[1;33m\u001b[0m\u001b[1;33m\u001b[0m\u001b[0m\n\u001b[0;32m     10\u001b[0m \u001b[1;33m\u001b[0m\u001b[0m\n\u001b[1;32m---> 11\u001b[1;33m \u001b[1;32mwith\u001b[0m \u001b[0mopen\u001b[0m\u001b[1;33m(\u001b[0m\u001b[0msys\u001b[0m\u001b[1;33m.\u001b[0m\u001b[0margv\u001b[0m\u001b[1;33m[\u001b[0m\u001b[1;36m1\u001b[0m\u001b[1;33m]\u001b[0m\u001b[1;33m,\u001b[0m \u001b[1;34m'rb'\u001b[0m\u001b[1;33m)\u001b[0m \u001b[1;32mas\u001b[0m \u001b[0mf\u001b[0m\u001b[1;33m:\u001b[0m\u001b[1;33m\u001b[0m\u001b[1;33m\u001b[0m\u001b[0m\n\u001b[0m\u001b[0;32m     12\u001b[0m     \u001b[1;32mwhile\u001b[0m \u001b[1;32mTrue\u001b[0m\u001b[1;33m:\u001b[0m\u001b[1;33m\u001b[0m\u001b[1;33m\u001b[0m\u001b[0m\n\u001b[0;32m     13\u001b[0m         \u001b[0mdata\u001b[0m \u001b[1;33m=\u001b[0m \u001b[0mf\u001b[0m\u001b[1;33m.\u001b[0m\u001b[0mread\u001b[0m\u001b[1;33m(\u001b[0m\u001b[0mBUF_SIZE\u001b[0m\u001b[1;33m)\u001b[0m\u001b[1;33m\u001b[0m\u001b[1;33m\u001b[0m\u001b[0m\n",
      "\u001b[1;31mFileNotFoundError\u001b[0m: [Errno 2] No such file or directory: '-f'"
     ]
    }
   ],
   "source": [
    "#Use buffers for memory\n",
    "import sys\n",
    "import hashlib\n",
    "\n",
    "# BUF_SIZE is totally arbitrary, change for your app!\n",
    "BUF_SIZE = 65536  # lets read stuff in 64kb chunks!\n",
    "\n",
    "md5 = hashlib.md5()\n",
    "sha1 = hashlib.sha1()\n",
    "\n",
    "with open(sys.argv[1], 'rb') as f:\n",
    "    while True:\n",
    "        data = f.read(BUF_SIZE)\n",
    "        if not data:\n",
    "            break\n",
    "        md5.update(data)\n",
    "        sha1.update(data)\n",
    "\n",
    "print(\"MD5: {0}\".format(md5.hexdigest()))\n",
    "print(\"SHA1: {0}\".format(sha1.hexdigest()))"
   ]
  },
  {
   "cell_type": "code",
   "execution_count": 12,
   "id": "9fbc4cbf",
   "metadata": {},
   "outputs": [],
   "source": [
    "# ^ FileNotFoundError: [Errno 2] No such file or directory: '-f'"
   ]
  },
  {
   "cell_type": "code",
   "execution_count": 13,
   "id": "63e5851a",
   "metadata": {},
   "outputs": [
    {
     "data": {
      "text/plain": [
       "'15530bba69924174860db778f2c6f8104d3aaf9d26241840c8c4a641c8d000a9'"
      ]
     },
     "execution_count": 13,
     "metadata": {},
     "output_type": "execute_result"
    }
   ],
   "source": [
    "#Key Derivation\n",
    "from hashlib import pbkdf2_hmac\n",
    "our_app_iters = 500_000  # Application specific, read above.\n",
    "dk = pbkdf2_hmac('sha256', b'password', b'bad salt'*2, our_app_iters)\n",
    "dk.hex()\n",
    "\n",
    "#uses iteration, comes standard with SSL now,"
   ]
  },
  {
   "cell_type": "code",
   "execution_count": 14,
   "id": "1bc37b5b",
   "metadata": {},
   "outputs": [
    {
     "data": {
      "text/plain": [
       "'567004bf96e4a25773ebf4'"
      ]
     },
     "execution_count": 14,
     "metadata": {},
     "output_type": "execute_result"
    }
   ],
   "source": [
    "#BLAKE2\n",
    "#RFC7693\n",
    "\n",
    "from hashlib import blake2b\n",
    "h = blake2b()\n",
    "h.update(b'Hello world')\n",
    "h.hexdigest()\n",
    "\n",
    "#As a shortcut, you can pass the first chunk of data to update directly to the constructor as the positional argument:\n",
    "\n",
    "#>>>#\n",
    "\n",
    "from hashlib import blake2b\n",
    "blake2b(b'Hello world').hexdigest()\n",
    "\n",
    "#You can call hash.update() as many times as you need to iteratively update the hash:\n",
    "\n",
    "#>>>#\n",
    "\n",
    "from hashlib import blake2b\n",
    "items = [b'Hello', b' ', b'world']\n",
    "h = blake2b()\n",
    "for item in items:\n",
    "    h.update(item)\n",
    "h.hexdigest()\n",
    "'6ff843ba685842aa82031d3f53c48b66326df7639a63d128974c5c14f31a0f33343a8c65551134ed1ae0f2b0dd2bb495dc81039e3eeb0aa1bb0388bbeac29183'\n",
    "\n",
    "#Using different digest sizes\n",
    "#BLAKE2 has configurable size of digests up to 64 bytes for BLAKE2b and up to 32 bytes for BLAKE2s. For example, to replace SHA-1 with BLAKE2b without changing the size of output, we can tell BLAKE2b to produce 20-byte digests:\n",
    "\n",
    "#>>>#\n",
    "\n",
    "from hashlib import blake2b\n",
    "h = blake2b(digest_size=20)\n",
    "h.update(b'Replacing SHA1 with the more secure function')\n",
    "h.hexdigest()\n",
    "'d24f26cf8de66472d58d4e1b1774b4c9158b1f4c'\n",
    "h.digest_size\n",
    "20\n",
    "len(h.digest())\n",
    "20\n",
    "\n",
    "#Hash objects with different digest sizes have completely different outputs (shorter hashes are not prefixes of longer hashes); BLAKE2b and BLAKE2s produce different outputs even if the output length is the same:\n",
    "\n",
    "#>>>#\n",
    "\n",
    "from hashlib import blake2b, blake2s\n",
    "blake2b(digest_size=10).hexdigest()\n",
    "'6fa1d8fcfd719046d762'\n",
    "blake2b(digest_size=11).hexdigest()\n",
    "'eb6ec15daf9546254f0809'\n",
    "blake2s(digest_size=10).hexdigest()\n",
    "'1bf21a98c78a1c376ae9'\n",
    "blake2s(digest_size=11).hexdigest()\n",
    "'567004bf96e4a25773ebf4'"
   ]
  },
  {
   "cell_type": "code",
   "execution_count": 16,
   "id": "828a26ec",
   "metadata": {},
   "outputs": [
    {
     "name": "stdout",
     "output_type": "stream",
     "text": [
      "user-alice,b'43b3c982cf697e0c5ab22172d1ca7421'\n"
     ]
    },
    {
     "data": {
      "text/plain": [
       "'e3c8102868d28b5ff85fc35dda07329970d1a01e273c37481326fe0c861c8142'"
      ]
     },
     "execution_count": 16,
     "metadata": {},
     "output_type": "execute_result"
    }
   ],
   "source": [
    "#Keyed hashing in Blake2\n",
    "\n",
    "from hashlib import blake2b\n",
    "h = blake2b(key=b'pseudorandom key', digest_size=16)\n",
    "h.update(b'message data')\n",
    "h.hexdigest()\n",
    "\n",
    "#As a practical example, a web application can symmetrically sign cookies sent to users and later verify them to make sure they weren’t tampered with:\n",
    "\n",
    "#>>>#\n",
    "\n",
    "from hashlib import blake2b\n",
    "from hmac import compare_digest\n",
    "\n",
    "SECRET_KEY = b'pseudorandomly generated server secret key'\n",
    "AUTH_SIZE = 16\n",
    "\n",
    "def sign(cookie):\n",
    "    h = blake2b(digest_size=AUTH_SIZE, key=SECRET_KEY)\n",
    "    h.update(cookie)\n",
    "    return h.hexdigest().encode('utf-8')\n",
    "\n",
    "def verify(cookie, sig):\n",
    "    good_sig = sign(cookie)\n",
    "    return compare_digest(good_sig, sig)\n",
    "\n",
    "cookie = b'user-alice'\n",
    "sig = sign(cookie)\n",
    "print(\"{0},{1}\".format(cookie.decode('utf-8'), sig))\n",
    "\n",
    "verify(cookie, sig)\n",
    "\n",
    "verify(b'user-bob', sig)\n",
    "\n",
    "verify(cookie, b'0102030405060708090a0b0c0d0e0f00')\n",
    "#Even though there’s a native keyed hashing mode, BLAKE2 can, of course, be used in HMAC construction with hmac module:\n",
    "\n",
    "#>>>#\n",
    "\n",
    "import hmac, hashlib\n",
    "m = hmac.new(b'secret key', digestmod=hashlib.blake2s)\n",
    "m.update(b'message')\n",
    "m.hexdigest()"
   ]
  },
  {
   "cell_type": "code",
   "execution_count": 17,
   "id": "7f0ea628",
   "metadata": {},
   "outputs": [
    {
     "data": {
      "text/plain": [
       "True"
      ]
     },
     "execution_count": 17,
     "metadata": {},
     "output_type": "execute_result"
    }
   ],
   "source": [
    "#Random hashing, salted hashing or just hashing\n",
    "#really not recommended for use with Blake2 -> not suitable for hashing passwords\n",
    "\n",
    "import os\n",
    "from hashlib import blake2b\n",
    "msg = b'some message'\n",
    "# Calculate the first hash with a random salt.\n",
    "salt1 = os.urandom(blake2b.S#ALT_SIZE)\n",
    "h1 = blake2b(salt=salt1)\n",
    "h1.update(msg)\n",
    "# Calculate the second hash with a different random salt.\n",
    "salt2 = os.urandom(blake2b.SALT_SIZE)\n",
    "h2 = blake2b(salt=salt2)\n",
    "h2.update(msg)\n",
    "# The digests are different.\n",
    "h1.digest() != h2.digest()"
   ]
  },
  {
   "cell_type": "code",
   "execution_count": 19,
   "id": "73d13e22",
   "metadata": {},
   "outputs": [
    {
     "name": "stdout",
     "output_type": "stream",
     "text": [
      "rbPb15S/Z9t+agffno5wuhB77VbRi6F9Iv2qIxU7WHw=\n",
      "G9GtHFE1YluXY1zWPlYk1e/nWfu0WSEb0KRcjhDeP/o=\n"
     ]
    }
   ],
   "source": [
    "#Personalization\n",
    "\n",
    "#lowers probability of breaking attack\n",
    "from hashlib import blake2b\n",
    "FILES_HASH_PERSON = b'MyApp Files Hash'\n",
    "BLOCK_HASH_PERSON = b'MyApp Block Hash'\n",
    "h = blake2b(digest_size=32, person=FILES_HASH_PERSON)\n",
    "h.update(b'the same content')\n",
    "h.hexdigest()\n",
    "\n",
    "h = blake2b(digest_size=32, person=BLOCK_HASH_PERSON)\n",
    "h.update(b'the same content')\n",
    "h.hexdigest()\n",
    "\n",
    "#Personalization together with the keyed mode can also be used to derive different keys from a single one.\n",
    "\n",
    "#>>>#\n",
    "\n",
    "from hashlib import blake2s\n",
    "from base64 import b64decode, b64encode\n",
    "orig_key = b64decode(b'Rm5EPJai72qcK3RGBpW3vPNfZy5OZothY+kHY6h21KM=')\n",
    "enc_key = blake2s(key=orig_key, person=b'kEncrypt').digest()\n",
    "mac_key = blake2s(key=orig_key, person=b'kMAC').digest()\n",
    "print(b64encode(enc_key).decode('utf-8'))\n",
    "\n",
    "print(b64encode(mac_key).decode('utf-8'))"
   ]
  },
  {
   "cell_type": "code",
   "execution_count": 20,
   "id": "abb85881",
   "metadata": {},
   "outputs": [
    {
     "data": {
      "text/plain": [
       "'3ad2a9b37c6070e374c7a8c508fe20ca86b6ed54e286e93a0318e95e881db5aa'"
      ]
     },
     "execution_count": 20,
     "metadata": {},
     "output_type": "execute_result"
    }
   ],
   "source": [
    "#This example uses 64-byte internal digests, and returns the 32-byte final digest:\n",
    "\n",
    "from hashlib import blake2b\n",
    "\n",
    "FANOUT = 2\n",
    "DEPTH = 2\n",
    "LEAF_SIZE = 4096\n",
    "INNER_SIZE = 64\n",
    "\n",
    "buf = bytearray(6000)\n",
    "\n",
    "# Left leaf\n",
    "h00 = blake2b(buf[0:LEAF_SIZE], fanout=FANOUT, depth=DEPTH,\n",
    "              leaf_size=LEAF_SIZE, inner_size=INNER_SIZE,\n",
    "              node_offset=0, node_depth=0, last_node=False)\n",
    "# Right leaf\n",
    "h01 = blake2b(buf[LEAF_SIZE:], fanout=FANOUT, depth=DEPTH,\n",
    "              leaf_size=LEAF_SIZE, inner_size=INNER_SIZE,\n",
    "              node_offset=1, node_depth=0, last_node=True)\n",
    "# Root node\n",
    "h10 = blake2b(digest_size=32, fanout=FANOUT, depth=DEPTH,\n",
    "              leaf_size=LEAF_SIZE, inner_size=INNER_SIZE,\n",
    "              node_offset=0, node_depth=1, last_node=True)\n",
    "h10.update(h00.digest())\n",
    "h10.update(h01.digest())\n",
    "h10.hexdigest()"
   ]
  },
  {
   "cell_type": "code",
   "execution_count": 21,
   "id": "93394b82",
   "metadata": {},
   "outputs": [],
   "source": [
    "#hashlib ^ and hmac\n",
    "# secrets and token generation, nothing too complex"
   ]
  }
 ],
 "metadata": {
  "kernelspec": {
   "display_name": "Python 3 (ipykernel)",
   "language": "python",
   "name": "python3"
  },
  "language_info": {
   "codemirror_mode": {
    "name": "ipython",
    "version": 3
   },
   "file_extension": ".py",
   "mimetype": "text/x-python",
   "name": "python",
   "nbconvert_exporter": "python",
   "pygments_lexer": "ipython3",
   "version": "3.9.13"
  }
 },
 "nbformat": 4,
 "nbformat_minor": 5
}
